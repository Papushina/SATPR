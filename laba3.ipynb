{
 "cells": [
  {
   "cell_type": "markdown",
   "metadata": {},
   "source": [
    "Задача 1(1)\n",
    "Вас запросили на телевізійну гру «Колесо фортуни». Колесо управляється за допомогою двох кнопок, які надають йому сильне (В) або слабке (Н) обертання. Саме колесо розділене на рівні області - білу (Б) і чорну (Ч). Вам повідомили, що у білій області колесо зупиняється з імовірністю 0,3, а в чорній 0,7. Плата, яку ви отримуєте за гру, дорівнює (в дол.) наступному (див. табл.) Побудувати дерево рішень. Яке очікуване значення прибутку?\n",
    "\n",
    "\t\t|Б\t    |Ч\n",
    "\n",
    " \tН\t|800\t    |200\n",
    "\n",
    " \tВ\t|-2500      |1000\n",
    "\n"
   ]
  },
  {
   "cell_type": "code",
   "execution_count": 8,
   "metadata": {},
   "outputs": [],
   "source": [
    "import numpy as np\n",
    "\n",
    "white_wheel_chance=0.3\n",
    "black_wheel_chance=0.7\n",
    "\n",
    "h_button=[800,200]\n",
    "b_button=[-2500,1000]\n"
   ]
  },
  {
   "cell_type": "code",
   "execution_count": 9,
   "metadata": {},
   "outputs": [
    {
     "name": "stdout",
     "output_type": "stream",
     "text": [
      "Чистий дохід від натискання кнопки Н:  380.0\n",
      "Чистий дохід від натискання кнопки B:  -50.0\n"
     ]
    }
   ],
   "source": [
    "\n",
    "h_profit=h_button[0]*white_wheel_chance+h_button[1]*black_wheel_chance     \n",
    "b_profit=b_button[0]*white_wheel_chance+b_button[1]*black_wheel_chance  \n",
    "\n",
    "print(\"Чистий дохід від натискання кнопки Н: \", h_profit)\n",
    "print(\"Чистий дохід від натискання кнопки B: \",b_profit)"
   ]
  },
  {
   "cell_type": "code",
   "execution_count": 10,
   "metadata": {},
   "outputs": [
    {
     "name": "stdout",
     "output_type": "stream",
     "text": [
      "Оскільки очікуваний чистий дохід більше для альтернативи А, і дорівнює  380.0 ,то приймаємо рішення натискати Н.\n"
     ]
    }
   ],
   "source": [
    "max_income=np.maximum(h_profit,b_profit)\n",
    "if max_income==h_profit:\n",
    "    print(\"Оскільки очікуваний чистий дохід більше для альтернативи А, і дорівнює \",h_profit,\",то приймаємо рішення натискати Н.\")\n",
    "else: print(\"Оскільки очікуваний чистий дохід більше для альтернативи Б, і дорівнює \",b_profit,\", то приймаємо рішення натискати B.\")\n"
   ]
  },
  {
   "cell_type": "markdown",
   "metadata": {},
   "source": [
    "2(5) Припустимо, у вас є можливість вкласти гроші або в 7,5%-і облігації, які продаються за номінальною ціною, або в спеціальний фонд, який виплачує лише 1% дивідендів. Якщо існує ймовірність інфляції, відсоткова ставка зросте до 8%, і в цьому випадку номінальна вартість облігацій збільшиться на 10%, а ціна акцій фонду - на 20%. Якщо прогнозується спад, то процентна ставка знизиться до 6%. При цих умовах очікується, що номінальна вартість облігацій підніметься на 5%, а ціна акцій фонду збільшиться на 20%. Якщо стан економіки залишиться незмінним, ціна акцій фонду збільшиться на 8%, а номінальна вартість облігацій не зміниться. Економісти оцінюють в 20% шанси настання інфляції і в 15% - що наступить спаду. Ваше рішення щодо інвестицій приймається з урахуванням економічних умов наступного року."
   ]
  },
  {
   "cell_type": "code",
   "execution_count": 11,
   "metadata": {},
   "outputs": [],
   "source": [
    "inflation_chance=0.2\n",
    "no_changes_chance=0.65\n",
    "decline_chance=0.15\n",
    "\n",
    "start_obligation_prozent=0.075\n",
    "oblig_prozent_after_inf=0.08\n",
    "oblig_prozent_after_no_ch=0.075\n",
    "oblig_prozent_after_decl=0.06\n",
    "\n",
    "fond_prozent=0.01\n",
    "\n",
    "oblig_price_after_inf_plus=0.1\n",
    "oblig_price_after_no_ch_plus=0\n",
    "oblig_price_after_decl_plus=0.05\n",
    "\n",
    "fond_price_after_inf_plus=0.2\n",
    "fond_price_after_no_ch_plus=0.08\n",
    "fond_price_after_decl_plus=0.2\n"
   ]
  },
  {
   "cell_type": "code",
   "execution_count": 15,
   "metadata": {},
   "outputs": [
    {
     "name": "stdout",
     "output_type": "stream",
     "text": [
      "Дохід, що отримується в разі вибору альтернативи облігацій та інфляції:  8.8 %\n",
      "Дохід, що отримується в разі вибору альтернативи облігацій при незмінному економічному стані:  7.5 %\n",
      "Дохід, що отримується в разі вибору альтернативи облігацій та спаду економіки:  6.3 %\n",
      "Дохід, що отримується в разі вибору альтернативи фонду та інфляції:  1.2 %\n",
      "Дохід, що отримується в разі вибору альтернативи фонду при незмінному економічному стані:  1.08 %\n",
      "Дохід, що отримується в разі вибору альтернативи фонду та спаду економіки:  1.2 %\n"
     ]
    }
   ],
   "source": [
    "oblig_income_inf=(1+oblig_price_after_inf_plus)*oblig_prozent_after_inf\n",
    "oblig_income_no_ch=(1+oblig_price_after_no_ch_plus)*oblig_prozent_after_no_ch\n",
    "oblig_income_decl=(1+oblig_price_after_decl_plus)*oblig_prozent_after_decl\n",
    "\n",
    "fond_income_inf=(1+fond_price_after_inf_plus)*fond_prozent\n",
    "fond_income_no_ch=(1+fond_price_after_no_ch_plus)*fond_prozent\n",
    "fond_income_decl=(1+fond_price_after_decl_plus)*fond_prozent\n",
    "\n",
    "print(\"Дохід, що отримується в разі вибору альтернативи облігацій та інфляції: \",oblig_income_inf *100,\"%\")\n",
    "print(\"Дохід, що отримується в разі вибору альтернативи облігацій при незмінному економічному стані: \",oblig_income_no_ch *100,\"%\")\n",
    "print(\"Дохід, що отримується в разі вибору альтернативи облігацій та спаду економіки: \",oblig_income_decl*100,\"%\" )\n",
    "print(\"Дохід, що отримується в разі вибору альтернативи фонду та інфляції: \",fond_income_inf *100,\"%\")\n",
    "print(\"Дохід, що отримується в разі вибору альтернативи фонду при незмінному економічному стані: \",fond_income_no_ch*100,\"%\")\n",
    "print(\"Дохід, що отримується в разі вибору альтернативи фонду та спаду економіки: \",fond_income_decl*100,\"%\" )"
   ]
  },
  {
   "cell_type": "code",
   "execution_count": 16,
   "metadata": {},
   "outputs": [
    {
     "name": "stdout",
     "output_type": "stream",
     "text": [
      "Чистий дохід, що отримується в разі вибору альтернативи облігаційя:  7.580000000000001 %\n",
      "Чистий дохід, що отримується в разі вибору альтернативи фонду:  1.122 %\n"
     ]
    }
   ],
   "source": [
    "oblig_income= oblig_income_inf*inflation_chance+oblig_income_no_ch*no_changes_chance+oblig_income_decl*decline_chance\n",
    "fond_income= fond_income_inf*inflation_chance+fond_income_no_ch*no_changes_chance+fond_income_decl*decline_chance\n",
    "print(\"Чистий дохід, що отримується в разі вибору альтернативи облігаційя: \",oblig_income*100,\"%\" )\n",
    "print(\"Чистий дохід, що отримується в разі вибору альтернативи фонду: \",fond_income*100,\"%\" )"
   ]
  },
  {
   "cell_type": "code",
   "execution_count": 17,
   "metadata": {},
   "outputs": [
    {
     "name": "stdout",
     "output_type": "stream",
     "text": [
      "Оскільки очікуваний чистий дохід більше для альтернативи облігацій, і дорівнює  7.580000000000001 %,то приймаємо рішення купувати облігації.\n"
     ]
    }
   ],
   "source": [
    "max_income=np.maximum(oblig_income,fond_income)\n",
    "if max_income==oblig_income:\n",
    "    print(\"Оскільки очікуваний чистий дохід більше для альтернативи облігацій, і дорівнює \",oblig_income*100,\"%, то приймаємо рішення купувати облігації.\")\n",
    "else: print(\"Оскільки очікуваний чистий дохід більше для альтернативи фонду, і дорівнює \",fond_income,\", то приймаємо рішення натискати вкладувати в фонд.\")"
   ]
  }
 ],
 "metadata": {
  "kernelspec": {
   "display_name": "Python 3",
   "language": "python",
   "name": "python3"
  },
  "language_info": {
   "codemirror_mode": {
    "name": "ipython",
    "version": 3
   },
   "file_extension": ".py",
   "mimetype": "text/x-python",
   "name": "python",
   "nbconvert_exporter": "python",
   "pygments_lexer": "ipython3",
   "version": "3.11.5"
  }
 },
 "nbformat": 4,
 "nbformat_minor": 2
}
