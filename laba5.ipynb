{
 "cells": [
  {
   "cell_type": "code",
   "execution_count": 1,
   "metadata": {},
   "outputs": [],
   "source": [
    "import numpy as np"
   ]
  },
  {
   "cell_type": "markdown",
   "metadata": {},
   "source": [
    "1 завдання"
   ]
  },
  {
   "cell_type": "code",
   "execution_count": 2,
   "metadata": {},
   "outputs": [],
   "source": [
    "matrix1=[[-8,\t6,\t0,\t7],\n",
    "         [3,\t-1,\t4,\t4],\n",
    "         [5,\t4,\t3,\t4]\n",
    "]\n",
    "min_values = []\n",
    "max_values = []\n"
   ]
  },
  {
   "cell_type": "code",
   "execution_count": 10,
   "metadata": {},
   "outputs": [
    {
     "name": "stdout",
     "output_type": "stream",
     "text": [
      "Нижня ціна гри: 3\n",
      "Верхня ціна гри: 4\n"
     ]
    }
   ],
   "source": [
    "for row in matrix1:\n",
    "    min_value = min(row)\n",
    "    min_values.append(min_value)\n",
    "\n",
    "    max_of_min_values= max(min_values)\n",
    "\n",
    "\n",
    "\n",
    "max_values=np.max(matrix1, axis=0)\n",
    "min_of_max_values= min(max_values)\n",
    "    \n",
    "\n",
    "\n",
    "print(\"Нижня ціна гри:\", max_of_min_values)\n",
    "print(\"Верхня ціна гри:\", min_of_max_values)"
   ]
  },
  {
   "cell_type": "code",
   "execution_count": 4,
   "metadata": {},
   "outputs": [
    {
     "name": "stdout",
     "output_type": "stream",
     "text": [
      "рівноваги в чистих стратегіях не існує\n"
     ]
    }
   ],
   "source": [
    "if max_of_min_values==min_of_max_values:\n",
    "    print('в грі є рівновага чистих стратегій')\n",
    "else:\n",
    "    print('рівноваги в чистих стратегіях не існує')    "
   ]
  },
  {
   "cell_type": "code",
   "execution_count": 5,
   "metadata": {},
   "outputs": [],
   "source": [
    "matrix2=[[0.66,\t0.34,\t0.34,\t0.34,\t0.34,\t0.34],\n",
    "         [0.12,\t0.88,\t0.12,\t0.12,\t0.12,\t0.12],\n",
    "         [0.16,\t0.16,\t0.84,\t0.16,\t0.16,\t0.16],\n",
    "         [0.4,\t0.4,\t0.4,\t0.6,\t0.4,\t0.4],\n",
    "         [0.5,\t0.5,\t0.5,\t0.5,\t0.5,\t0.5],\n",
    "         [0.2,\t0.2,\t0.2,\t0.2,\t0.2,\t0.8]]\n",
    "\n",
    "min_values2 = []\n",
    "max_values2 = []"
   ]
  },
  {
   "cell_type": "code",
   "execution_count": 12,
   "metadata": {},
   "outputs": [
    {
     "name": "stdout",
     "output_type": "stream",
     "text": [
      "Нижня ціна гри: 0.5\n",
      "Верхня ціна гри: 0.16\n"
     ]
    }
   ],
   "source": [
    "for row in matrix2:\n",
    "    max_value = max(row)\n",
    "    max_values2.append(max_value)\n",
    "    min_of_max_values= min(max_values2)\n",
    "\n",
    "min_values2=np.min(matrix2, axis=0)\n",
    "max_of_min_values = max(min_values2)\n",
    "\n",
    "print(\"Нижня ціна гри:\", min_of_max_values)\n",
    "print(\"Верхня ціна гри:\", max_of_min_values)"
   ]
  },
  {
   "cell_type": "code",
   "execution_count": 13,
   "metadata": {},
   "outputs": [
    {
     "name": "stdout",
     "output_type": "stream",
     "text": [
      "рівноваги в чистих стратегіях не існує\n"
     ]
    }
   ],
   "source": [
    "if max_of_min_values==min_of_max_values:\n",
    "    print('в грі є рівновага чистих стратегій')\n",
    "else:\n",
    "    print('рівноваги в чистих стратегіях не існує')   "
   ]
  }
 ],
 "metadata": {
  "kernelspec": {
   "display_name": "Python 3",
   "language": "python",
   "name": "python3"
  },
  "language_info": {
   "codemirror_mode": {
    "name": "ipython",
    "version": 3
   },
   "file_extension": ".py",
   "mimetype": "text/x-python",
   "name": "python",
   "nbconvert_exporter": "python",
   "pygments_lexer": "ipython3",
   "version": "3.11.5"
  }
 },
 "nbformat": 4,
 "nbformat_minor": 2
}
