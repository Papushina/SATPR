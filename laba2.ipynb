{
 "cells": [
  {
   "cell_type": "code",
   "execution_count": 1,
   "metadata": {},
   "outputs": [],
   "source": [
    "import numpy as np\n",
    "\n",
    "expert_one_criteria = [\n",
    "   [1, 0.133333,  0.333333, 0.2, 0.333333, 4.5, 0.166667,0.5,0.5], \n",
    "   [7.5, 1, 5, 3, 2, 5.5, 0.333333, 4, 8], \n",
    "   [3, 0.2, 1, 0.166667, 0.5, 3, 0.142857, 0.25, 2],\n",
    "   [5, 0.3333333, 6, 1,\t2.5, 4, 0.333333, 3, 8],\n",
    "   [3, 0.5, 2, 0.4, 1, 4, 0.333, 0.25, 4],\n",
    "   [0.222222, 0.181818,\t0.333333,0.25,0.25,\t1,0.2,0.2,2],\n",
    "   [6,3,7,3,3,5,1,3,7],\n",
    "   [2, 0.25,4,0.333333, 4, 4, 0.333333,\t1,\t3],\n",
    "   [2, 0.125, 0.5, 0.125, 0.25, 0.5, 0.142857, 0.333333,1]\n",
    "]\n",
    "\n",
    "\n",
    "expert_two_criteria = [\n",
    "   [1,\t0.166667,\t0.285714,\t0.25,\t0.333333,\t4,\t0.142857,\t0.5,\t0.333333], \n",
    "   [6, 1, 4, 3,\t2, 5, 0.333333,\t5, 6], \n",
    "   [3.5, 0.25, 1, 0.142857,\t0.333333, 3, 0.166667, 0.333333, 2],\n",
    "   [4, 0.333333, 7,\t1, 2, 3, 0.5, 2, 7],\n",
    "   [3, 0.5,\t3, 0.5,\t1, 4, 0.5, 0.333333, 4],\n",
    "   [0.25, 0.2, 0.333333, 0.333333, 0.25, 1,\t0.166667,0.333333,\t2],\n",
    "   [7,\t3,\t6,\t2,\t2,\t6,\t1,\t3,\t5],\n",
    "   [2,\t0.2, 3,\t0.5, 3,\t3,\t0.333333, 1, 4],\n",
    "   [3,\t0.166667, 0.5,\t0.142857, 0.25,\t0.5, 0.2, 0.25,\t1]\n",
    "]\n",
    "\n",
    "k1_expert_one = [\n",
    "    [1, 2, 0.5],\n",
    "    [0.5, 1, 0.333333],\n",
    "    [2, 3, 1]\n",
    "]\n",
    "\n",
    "k1_expert_two = [\n",
    "    [1, 2, 0.4],\n",
    "    [0.5, 1, 0.25],\n",
    "    [2.5, 4, 1]\n",
    "]\n",
    "\n",
    "k2_expert_one = [\n",
    "    [1, 3, 3],\n",
    "    [0.333333, 1, 0.5],\n",
    "    [0.333333, 2, 1]\n",
    "]\n",
    "\n",
    "k2_expert_two = [\n",
    "    [1, 3, 3],\n",
    "    [0.333333, 1, 0.5],\n",
    "    [0.333333, 2, 1]\n",
    "]\n",
    "\n",
    "k3_expert_one = [\n",
    "    [1, 4, 5],\n",
    "    [0.25, 1, 0.5],\n",
    "    [0.2, 2, 1]\n",
    "]\n",
    "\n",
    "k3_expert_two = [\n",
    "    [1, 3, 6],\n",
    "    [0.333333, 1, 0.5],\n",
    "    [0.166667, 2, 1]\n",
    "]\n",
    "\n",
    "k4_expert_one = [\n",
    "    [1, 0.5, 0.333333],\n",
    "    [2, 1, 2],\n",
    "    [3, 0.5, 1]\n",
    "]\n",
    "\n",
    "k4_expert_two = [\n",
    "    [1, 0.333333, 0.25],\n",
    "    [3, 1, 3],\n",
    "    [4, 0.333333, 1]\n",
    "]\n",
    "\n",
    "k5_expert_one = [\n",
    "    [1, 0.166667, 0.25],\n",
    "    [6, 1, 4],\n",
    "    [4, 0.25, 1]\n",
    "]\n",
    "\n",
    "k5_expert_two = [\n",
    "    [1, 0.142857, 0.2],\n",
    "    [7, 1, 4],\n",
    "    [5, 0.25, 1]\n",
    "]\n",
    "\n",
    "k6_expert_one = [\n",
    "    [1, 2, 0.5],\n",
    "    [0.5, 1, 0.333333],\n",
    "    [2, 3, 1]\n",
    "]\n",
    "\n",
    "k6_expert_two = [\n",
    "    [1, 3, 0.5],\n",
    "    [0.333333, 1, 0.25],\n",
    "    [2, 4, 1]\n",
    "]\n",
    "\n",
    "k7_expert_one = [\n",
    "    [1, 1.5, 0.5],\n",
    "    [0.666667, 1, 2],\n",
    "    [2, 0.5, 1]\n",
    "]\n",
    "\n",
    "k7_expert_two = [\n",
    "    [1, 3, 0.666667],\n",
    "    [0.333333, 1, 1.5],\n",
    "    [1.5, 0.666667, 1]\n",
    "]\n",
    "\n",
    "k8_expert_one = [\n",
    "    [1, 0.25, 0.333333],\n",
    "    [4, 1, 4],\n",
    "    [3, 0.25, 1]\n",
    "]\n",
    "\n",
    "k8_expert_two = [\n",
    "    [1, 0.2, 0.333333],\n",
    "    [5, 1, 3],\n",
    "    [3, 0.333333, 1]\n",
    "]\n",
    "\n",
    "k9_expert_one = [\n",
    "    [1, 4, 3],\n",
    "    [0.25, 1, 0.333333],\n",
    "    [0.333333, 3, 1]\n",
    "]\n",
    "\n",
    "k9_expert_two = [\n",
    "    [1, 5, 3],\n",
    "    [0.2, 1, 0.25],\n",
    "    [0.333333, 4, 1]\n",
    "]"
   ]
  },
  {
   "cell_type": "code",
   "execution_count": 2,
   "metadata": {},
   "outputs": [
    {
     "name": "stdout",
     "output_type": "stream",
     "text": [
      "Ваги критеріїв (експерт 1): [0.034158529363870614, 0.2254435060794922, 0.04745733028967813, 0.1651055724480739, 0.08276142298922443, 0.027019102819193317, 0.28785532615386294, 0.10219309386800172, 0.028006115988602753]\n",
      "Ваги критеріїв (експерт 2): [0.034175239233911116, 0.22008572327320627, 0.05100691933763052, 0.1592730394794955, 0.10010611832825136, 0.03093791469585362, 0.2700272143027685, 0.10215474355825063, 0.03223308779063255]\n",
      "Середній пріоритет критеріїв: [0.034166883277361663, 0.22274850637603055, 0.049200124167169554, 0.16216308568477222, 0.09102156229583055, 0.028912189439381807, 0.27879880172544225, 0.10217391691380903, 0.030045358964992757]\n"
     ]
    }
   ],
   "source": [
    "def calculate_normalized_geometric_means(matrix):\n",
    "    # Функція для обчислення середнього геометричного значення списку\n",
    "    def geometric_mean(lst):\n",
    "        product = np.prod(lst)  \n",
    "        geometric_mean = product ** (1 / len(lst)) \n",
    "        return geometric_mean\n",
    "\n",
    "    # Обчислення середнього геометричного для кожного рядка\n",
    "    geometric_means = [geometric_mean(row) for row in matrix]\n",
    "\n",
    "    # Обчислення суми всіх середніх геометричних\n",
    "    total_geometric_sum = sum(geometric_means)\n",
    "\n",
    "    # Поділ середнього геометричного кожного рядка на суму всіх середніх геометричних\n",
    "    normalized_geometric_means = [mean / total_geometric_sum for mean in geometric_means]\n",
    "\n",
    "    return normalized_geometric_means\n",
    "\n",
    "criteria_weights_expert_one = calculate_normalized_geometric_means(expert_one_criteria)\n",
    "criteria_weights_expert_two = calculate_normalized_geometric_means(expert_two_criteria)\n",
    "\n",
    "print(\"Ваги критеріїв (експерт 1):\", criteria_weights_expert_one)\n",
    "print(\"Ваги критеріїв (експерт 2):\", criteria_weights_expert_two)\n",
    "\n",
    "# Calculate the average priority of criteria between two experts\n",
    "average_priority = [(w1 * w2) ** 0.5 for w1, w2 in zip(criteria_weights_expert_one, criteria_weights_expert_two)]\n",
    "\n",
    "print(\"Середній пріоритет критеріїв:\", average_priority)\n"
   ]
  },
  {
   "cell_type": "code",
   "execution_count": 3,
   "metadata": {},
   "outputs": [
    {
     "name": "stdout",
     "output_type": "stream",
     "text": [
      "Критерій 1 (експерт 1): [0.2969613473893849, 0.1634240729941849, 0.5396145796164301]\n",
      "Критерій 1 (експерт 2): [0.25910742590446917, 0.13955750670336356, 0.6013350673921672]\n",
      "Критерій 1: [0.29696135 0.16342407 0.60133507]\n"
     ]
    }
   ],
   "source": [
    "k1_weights_expert_one = calculate_normalized_geometric_means(k1_expert_one)\n",
    "k1_weights_expert_two = calculate_normalized_geometric_means(k1_expert_two)\n",
    "\n",
    "print(\"Критерій 1 (експерт 1):\", k1_weights_expert_one)\n",
    "print(\"Критерій 1 (експерт 2):\", k1_weights_expert_two)\n",
    "\n",
    "max_weights_k1 = np.maximum(k1_weights_expert_one, k1_weights_expert_two)\n",
    "print(\"Критерій 1:\", max_weights_k1)"
   ]
  },
  {
   "cell_type": "code",
   "execution_count": 4,
   "metadata": {},
   "outputs": [
    {
     "name": "stdout",
     "output_type": "stream",
     "text": [
      "Критерій 2 (експерт 1): [0.5936337656712488, 0.15705575833310967, 0.24931047599564155]\n",
      "Критерій 2 (експерт 2): [0.5936337656712488, 0.15705575833310967, 0.24931047599564155]\n",
      "Критерій 2: [0.59363377 0.15705576 0.24931048]\n"
     ]
    }
   ],
   "source": [
    "k2_weights_expert_one = calculate_normalized_geometric_means(k2_expert_one)\n",
    "k2_weights_expert_two = calculate_normalized_geometric_means(k2_expert_two)\n",
    "\n",
    "print(\"Критерій 2 (експерт 1):\", k2_weights_expert_one)\n",
    "print(\"Критерій 2 (експерт 2):\", k2_weights_expert_two)\n",
    "\n",
    "max_weights_k2 = np.maximum(k2_weights_expert_one, k2_weights_expert_two)\n",
    "print(\"Критерій 2:\", max_weights_k2)"
   ]
  },
  {
   "cell_type": "code",
   "execution_count": 5,
   "metadata": {},
   "outputs": [
    {
     "name": "stdout",
     "output_type": "stream",
     "text": [
      "Критерій 3 (експерт 1): [0.6869814705720217, 0.12654306882848113, 0.18647546059949716]\n",
      "Критерій 3 (експерт 2): [0.6781712588337503, 0.14240699327069503, 0.1794217478955547]\n",
      "Критерій 3: [0.68698147 0.14240699 0.18647546]\n"
     ]
    }
   ],
   "source": [
    "k3_weights_expert_one = calculate_normalized_geometric_means(k3_expert_one)\n",
    "k3_weights_expert_two = calculate_normalized_geometric_means(k3_expert_two)\n",
    "\n",
    "print(\"Критерій 3 (експерт 1):\", k3_weights_expert_one)\n",
    "print(\"Критерій 3 (експерт 2):\", k3_weights_expert_two)\n",
    "\n",
    "max_weights_k3 = np.maximum(k3_weights_expert_one, k3_weights_expert_two)\n",
    "print(\"Критерій 3:\", max_weights_k3)"
   ]
  },
  {
   "cell_type": "code",
   "execution_count": 6,
   "metadata": {},
   "outputs": [
    {
     "name": "stdout",
     "output_type": "stream",
     "text": [
      "Критерій 4 (експерт 1): [0.1676562684505353, 0.48360452346581756, 0.3487392080836472]\n",
      "Критерій 4 (експерт 2): [0.12074309877075322, 0.5750033576876313, 0.3042535435416155]\n",
      "Критерій 4: [0.16765627 0.57500336 0.34873921]\n"
     ]
    }
   ],
   "source": [
    "k4_weights_expert_one = calculate_normalized_geometric_means(k4_expert_one)\n",
    "k4_weights_expert_two = calculate_normalized_geometric_means(k4_expert_two)\n",
    "\n",
    "print(\"Критерій 4 (експерт 1):\", k4_weights_expert_one)\n",
    "print(\"Критерій 4 (експерт 2):\", k4_weights_expert_two)\n",
    "\n",
    "max_weights_k4 = np.maximum(k4_weights_expert_one, k4_weights_expert_two)\n",
    "print(\"Критерій 4:\", max_weights_k4)"
   ]
  },
  {
   "cell_type": "code",
   "execution_count": 7,
   "metadata": {},
   "outputs": [
    {
     "name": "stdout",
     "output_type": "stream",
     "text": [
      "Критерій 5 (експерт 1): [0.0819347953917148, 0.6817245152747874, 0.2363406893334977]\n",
      "Критерій 5 (експерт 2): [0.06917285579073933, 0.6870861735085508, 0.2437409707007097]\n",
      "Критерій 5: [0.0819348  0.68708617 0.24374097]\n"
     ]
    }
   ],
   "source": [
    "k5_weights_expert_one = calculate_normalized_geometric_means(k5_expert_one)\n",
    "k5_weights_expert_two = calculate_normalized_geometric_means(k5_expert_two)\n",
    "\n",
    "print(\"Критерій 5 (експерт 1):\", k5_weights_expert_one)\n",
    "print(\"Критерій 5 (експерт 2):\", k5_weights_expert_two)\n",
    "\n",
    "max_weights_k5 = np.maximum(k5_weights_expert_one, k5_weights_expert_two)\n",
    "print(\"Критерій 5:\", max_weights_k5)"
   ]
  },
  {
   "cell_type": "code",
   "execution_count": 8,
   "metadata": {},
   "outputs": [
    {
     "name": "stdout",
     "output_type": "stream",
     "text": [
      "Критерій 6 (експерт 1): [0.2969613473893849, 0.1634240729941849, 0.5396145796164301]\n",
      "Критерій 6 (експерт 2): [0.3196182769292293, 0.12195715727466838, 0.5584245657961023]\n",
      "Критерій 6: [0.31961828 0.16342407 0.55842457]\n"
     ]
    }
   ],
   "source": [
    "k6_weights_expert_one = calculate_normalized_geometric_means(k6_expert_one)\n",
    "k6_weights_expert_two = calculate_normalized_geometric_means(k6_expert_two)\n",
    "\n",
    "print(\"Критерій 6 (експерт 1):\", k6_weights_expert_one)\n",
    "print(\"Критерій 6 (експерт 2):\", k6_weights_expert_two)\n",
    "\n",
    "max_weights_k6 = np.maximum(k6_weights_expert_one, k6_weights_expert_two)\n",
    "print(\"Критерій 6:\", max_weights_k6)"
   ]
  },
  {
   "cell_type": "code",
   "execution_count": 9,
   "metadata": {},
   "outputs": [
    {
     "name": "stdout",
     "output_type": "stream",
     "text": [
      "Критерій 7 (експерт 1): [0.30192723048920544, 0.36575885299892924, 0.3323139165118653]\n",
      "Критерій 7 (експерт 2): [0.4125990016533834, 0.25992095371381185, 0.3274800446328049]\n",
      "Критерій 7: [0.412599   0.36575885 0.33231392]\n"
     ]
    }
   ],
   "source": [
    "k7_weights_expert_one = calculate_normalized_geometric_means(k7_expert_one)\n",
    "k7_weights_expert_two = calculate_normalized_geometric_means(k7_expert_two)\n",
    "\n",
    "print(\"Критерій 7 (експерт 1):\", k7_weights_expert_one)\n",
    "print(\"Критерій 7 (експерт 2):\", k7_weights_expert_two)\n",
    "\n",
    "max_weights_k7 = np.maximum(k7_weights_expert_one, k7_weights_expert_two)\n",
    "print(\"Критерій 7:\", max_weights_k7)"
   ]
  },
  {
   "cell_type": "code",
   "execution_count": 10,
   "metadata": {},
   "outputs": [
    {
     "name": "stdout",
     "output_type": "stream",
     "text": [
      "Критерій 8 (експерт 1): [0.11300603752466118, 0.6519318535590322, 0.2350621089163066]\n",
      "Критерій 8 (експерт 2): [0.10472941164369168, 0.6369856488231098, 0.25828493953319853]\n",
      "Критерій 8: [0.11300604 0.65193185 0.25828494]\n"
     ]
    }
   ],
   "source": [
    "k8_weights_expert_one = calculate_normalized_geometric_means(k8_expert_one)\n",
    "k8_weights_expert_two = calculate_normalized_geometric_means(k8_expert_two)\n",
    "\n",
    "print(\"Критерій 8 (експерт 1):\", k8_weights_expert_one)\n",
    "print(\"Критерій 8 (експерт 2):\", k8_weights_expert_two)\n",
    "\n",
    "max_weights_k8 = np.maximum(k8_weights_expert_one, k8_weights_expert_two)\n",
    "print(\"Критерій 8:\", max_weights_k8)"
   ]
  },
  {
   "cell_type": "code",
   "execution_count": 11,
   "metadata": {},
   "outputs": [
    {
     "name": "stdout",
     "output_type": "stream",
     "text": [
      "Критерій 9 (експерт 1): [0.6144107345684862, 0.11722074736609164, 0.2683685180654221]\n",
      "Критерій 9 (експерт 2): [0.62669652905996, 0.09361602666600685, 0.27968744427403314]\n",
      "Критерій 9: [0.62669653 0.11722075 0.27968744]\n"
     ]
    }
   ],
   "source": [
    "k9_weights_expert_one = calculate_normalized_geometric_means(k9_expert_one)\n",
    "k9_weights_expert_two = calculate_normalized_geometric_means(k9_expert_two)\n",
    "\n",
    "print(\"Критерій 9 (експерт 1):\", k9_weights_expert_one)\n",
    "print(\"Критерій 9 (експерт 2):\", k9_weights_expert_two)\n",
    "\n",
    "max_weights_k9 = np.maximum(k9_weights_expert_one, k9_weights_expert_two)\n",
    "print(\"Критерій 9:\", max_weights_k9)"
   ]
  },
  {
   "cell_type": "code",
   "execution_count": 12,
   "metadata": {},
   "outputs": [
    {
     "name": "stdout",
     "output_type": "stream",
     "text": [
      "Глобальні пріоритети: [0.3654709059852237, 0.38018849243639524, 0.30757949922377936]\n",
      "Найкращий ПК - ПК2 з глобальним пріорітетом: 0.38018849243639524\n"
     ]
    }
   ],
   "source": [
    "global_priorities3 = [] \n",
    "for i in range(len(max_weights_k1)):\n",
    "    for j in range(len(max_weights_k1)):\n",
    "        # Розраховуємо глобальний пріоритет для поточного ПК та додаємо його до рядка\n",
    "        cell_value = max_weights_k1[i] * average_priority[0] + max_weights_k2[i] * average_priority[1] + max_weights_k3[i] * average_priority[2]+max_weights_k4[i] * average_priority[3]+max_weights_k5[i] * average_priority[4]+max_weights_k6[i] * average_priority[5]+max_weights_k7[i] * average_priority[6]+max_weights_k8[i] * average_priority[7]+max_weights_k9[i] * average_priority[8]\n",
    "    global_priorities3.append(cell_value)\n",
    "print(\"Глобальні пріоритети:\", global_priorities3)\n",
    "\n",
    "best_pc_index = np.argmax(global_priorities3)\n",
    "print(f\"Найкращий вибір автомобіля - Авто номер {(best_pc_index + 1)} з глобальним пріорітетом: {global_priorities3[best_pc_index]}\")\n"
   ]
  }
 ],
 "metadata": {
  "kernelspec": {
   "display_name": "Python 3",
   "language": "python",
   "name": "python3"
  },
  "language_info": {
   "codemirror_mode": {
    "name": "ipython",
    "version": 3
   },
   "file_extension": ".py",
   "mimetype": "text/x-python",
   "name": "python",
   "nbconvert_exporter": "python",
   "pygments_lexer": "ipython3",
   "version": "3.11.5"
  }
 },
 "nbformat": 4,
 "nbformat_minor": 2
}
