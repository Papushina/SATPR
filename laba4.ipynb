{
 "cells": [
  {
   "cell_type": "markdown",
   "metadata": {},
   "source": [
    "1 завдання\n"
   ]
  },
  {
   "cell_type": "code",
   "execution_count": 28,
   "metadata": {},
   "outputs": [],
   "source": [
    "import numpy as np\n",
    "matrix=[[180,140,11,201,232],\n",
    "        [420,230,140,220,100],\n",
    "        [113,315,35,49,290],\n",
    "        [180,11,9,1010,201]]\n",
    "max_of_min_values = []\n",
    "max_of_max_values = []\n"
   ]
  },
  {
   "cell_type": "markdown",
   "metadata": {},
   "source": [
    "критерій песимізму(Вальда)\n"
   ]
  },
  {
   "cell_type": "code",
   "execution_count": 29,
   "metadata": {},
   "outputs": [
    {
     "name": "stdout",
     "output_type": "stream",
     "text": [
      "Найменший виграш для стратегії 1: 11\n",
      "Найменший виграш для стратегії 2: 100\n",
      "Найменший виграш для стратегії 3: 35\n",
      "Найменший виграш для стратегії 4: 9\n",
      "\n",
      "Серед отриманих найгірших результатів, найбільший під номером 4, який і є оптимальним рішенням: 100\n"
     ]
    }
   ],
   "source": [
    "for row in matrix:\n",
    "    min_value = min(row)\n",
    "    max_of_min_values.append(min_value)\n",
    "\n",
    "max_overall = max(max_of_min_values)\n",
    "\n",
    "for i, min_value in enumerate(max_of_min_values, 1):\n",
    "    print(f\"Найменший виграш для стратегії {i}: {min_value}\")\n",
    "\n",
    "print(f\"\\nСеред отриманих найгірших результатів, найбільший під номером {i}, який і є оптимальним рішенням: {max_overall}\")    \n"
   ]
  },
  {
   "cell_type": "markdown",
   "metadata": {},
   "source": [
    "Критерій оптимізму"
   ]
  },
  {
   "cell_type": "code",
   "execution_count": 30,
   "metadata": {},
   "outputs": [
    {
     "name": "stdout",
     "output_type": "stream",
     "text": [
      "Найменший виграш для стратегії 1: 232\n",
      "Найменший виграш для стратегії 2: 420\n",
      "Найменший виграш для стратегії 3: 315\n",
      "Найменший виграш для стратегії 4: 1010\n",
      "\n",
      "Серед отриманих найкращих результатів, найбільший під номером 4, який і є оптимальним рішенням: 1010\n"
     ]
    }
   ],
   "source": [
    "for row in matrix:\n",
    "    max_value = max(row)\n",
    "    max_of_max_values.append(max_value)\n",
    "\n",
    "max_overall = max(max_of_max_values)\n",
    "\n",
    "for i, max_value in enumerate(max_of_max_values, 1):\n",
    "    print(f\"Найменший виграш для стратегії {i}: {max_value}\")\n",
    "\n",
    "print(f\"\\nСеред отриманих найкращих результатів, найбільший під номером {i}, який і є оптимальним рішенням: {max_overall}\")    \n"
   ]
  },
  {
   "cell_type": "markdown",
   "metadata": {},
   "source": [
    "Критерій Гурвіца"
   ]
  },
  {
   "cell_type": "code",
   "execution_count": 31,
   "metadata": {},
   "outputs": [
    {
     "name": "stdout",
     "output_type": "stream",
     "text": [
      "Найкраща альтернатива з результатом 938.4999714 під номером 1.\n"
     ]
    }
   ],
   "source": [
    "linear_combinations = []\n",
    "lyambda=0.0714286\n",
    "for i, row in enumerate(matrix, 1):\n",
    "    linear_combination = lyambda * min_value + (1 - lyambda) * max_value\n",
    "    linear_combinations.append(linear_combination)\n",
    "max_linear_combination = max(linear_combinations)\n",
    "indexx=linear_combinations.index(max_linear_combination)\n",
    "\n",
    "\n",
    "print(f\"Найкраща альтернатива з результатом {max_linear_combination} під номером {(indexx+1)}.\")"
   ]
  },
  {
   "cell_type": "markdown",
   "metadata": {},
   "source": [
    "Критерій Лапласа"
   ]
  },
  {
   "cell_type": "code",
   "execution_count": 32,
   "metadata": {},
   "outputs": [
    {
     "name": "stdout",
     "output_type": "stream",
     "text": [
      "Найкраща альтернатива з результатом 282.2 під номером 4.\n"
     ]
    }
   ],
   "source": [
    "average = []\n",
    "\n",
    "for i, row in enumerate(matrix, 1):\n",
    "    count_average = sum(row) / len(row)\n",
    "    average.append(count_average)\n",
    "max_average = max(average)\n",
    "indexx=average.index(max_average)\n",
    "\n",
    "\n",
    "print(f\"Найкраща альтернатива з результатом {max_average} під номером {(indexx+1)}.\")"
   ]
  },
  {
   "cell_type": "markdown",
   "metadata": {},
   "source": [
    "Критерій Байєса-Лапласа"
   ]
  },
  {
   "cell_type": "code",
   "execution_count": 33,
   "metadata": {},
   "outputs": [
    {
     "name": "stdout",
     "output_type": "stream",
     "text": [
      "Найкраща альтернатива з результатом 285.8714462 під номером 4.\n"
     ]
    }
   ],
   "source": [
    "bl = []\n",
    "p=[0.1,0.2,lyambda,lyambda+0.1,1-0.1-0.2-lyambda-(lyambda+0.1)]\n",
    "\n",
    "for row in matrix:\n",
    "    count_bl = np.dot(p,row)\n",
    "    bl.append(count_bl)\n",
    "max_bl = max(bl)\n",
    "indexx=bl.index(max_bl)\n",
    "\n",
    "\n",
    "print(f\"Найкраща альтернатива з результатом {max_bl} під номером {(indexx+1)}.\")"
   ]
  },
  {
   "cell_type": "markdown",
   "metadata": {},
   "source": [
    "Критерій Ходжа-Лемана"
   ]
  },
  {
   "cell_type": "code",
   "execution_count": 34,
   "metadata": {},
   "outputs": [
    {
     "name": "stdout",
     "output_type": "stream",
     "text": [
      "Найкраща альтернатива з результатом 105.8163291836736 під номером 2.\n"
     ]
    }
   ],
   "source": [
    "hod_lem = []\n",
    "\n",
    "for i, row in enumerate(matrix, 1):\n",
    "    count_hl = min(row)*(1-lyambda)+lyambda*np.dot(p,row)\n",
    "    hod_lem.append(count_hl)\n",
    "max_hod_lem = max(hod_lem)\n",
    "indexx=hod_lem.index(max_hod_lem)\n",
    "\n",
    "\n",
    "print(f\"Найкраща альтернатива з результатом {max_hod_lem} під номером {(indexx+1)}.\")"
   ]
  },
  {
   "cell_type": "markdown",
   "metadata": {},
   "source": [
    "2 завдання"
   ]
  },
  {
   "cell_type": "code",
   "execution_count": 35,
   "metadata": {},
   "outputs": [],
   "source": [
    "import numpy as np\n",
    "\n",
    "matrixtwo=[[1000,2555],\n",
    "         [2500,900],\n",
    "         [2360,600]]\n",
    "\n",
    "\n",
    "max_values = []"
   ]
  },
  {
   "cell_type": "markdown",
   "metadata": {},
   "source": [
    "Критерій оптимізму"
   ]
  },
  {
   "cell_type": "code",
   "execution_count": 36,
   "metadata": {},
   "outputs": [
    {
     "name": "stdout",
     "output_type": "stream",
     "text": [
      "Найкраща альтернатива з результатом 1000 під номером 1.\n"
     ]
    }
   ],
   "source": [
    "min_values = []\n",
    "for i, row in enumerate(matrixtwo, 1):\n",
    "    min_value = min(row)\n",
    "    min_values.append(min_value)\n",
    "\n",
    "indexx=min_values.index(max(min_values)) \n",
    "\n",
    "print(f\"Найкраща альтернатива з результатом {max(min_values)} під номером {(indexx+1)}.\")\n"
   ]
  },
  {
   "cell_type": "markdown",
   "metadata": {},
   "source": [
    "Критерій оптимізму\n"
   ]
  },
  {
   "cell_type": "code",
   "execution_count": 37,
   "metadata": {},
   "outputs": [
    {
     "name": "stdout",
     "output_type": "stream",
     "text": [
      "Найкраща альтернатива з результатом 2555 під номером 1.\n"
     ]
    }
   ],
   "source": [
    "max_values = []\n",
    "for i, row in enumerate(matrixtwo, 1):\n",
    "    max_value = max(row)\n",
    "    max_values.append(max_value)\n",
    "\n",
    "indexx=max_values.index(max(max_values)) \n",
    "\n",
    "print(f\"Найкраща альтернатива з результатом {max(max_values)} під номером {(indexx+1)}.\")\n"
   ]
  },
  {
   "cell_type": "markdown",
   "metadata": {},
   "source": [
    "Критерій Гурвіца"
   ]
  },
  {
   "cell_type": "code",
   "execution_count": 49,
   "metadata": {},
   "outputs": [
    {
     "name": "stdout",
     "output_type": "stream",
     "text": [
      "Найкраща альтернатива з результатом 1777.5 під номером 1.\n"
     ]
    }
   ],
   "source": [
    "lyambda=0.5\n",
    "linear_combinations2=[]\n",
    "for i, row in enumerate(matrixtwo, 1):\n",
    "    linear_combination = lyambda * min(row) + (1 - lyambda) * max(row)\n",
    "    linear_combinations2.append(linear_combination)\n",
    "max_linear_combination = max(linear_combinations2)\n",
    "indexx=linear_combinations2.index(max_linear_combination)\n",
    "\n",
    "\n",
    "print(f\"Найкраща альтернатива з результатом {max_linear_combination} під номером {(indexx+1)}.\")"
   ]
  },
  {
   "cell_type": "markdown",
   "metadata": {},
   "source": [
    "Критерій Лапласа"
   ]
  },
  {
   "cell_type": "code",
   "execution_count": 52,
   "metadata": {},
   "outputs": [
    {
     "name": "stdout",
     "output_type": "stream",
     "text": [
      "Найкраща альтернатива з результатом 1777.5 під номером 1.\n"
     ]
    }
   ],
   "source": [
    "average2 = []\n",
    "\n",
    "for i, row in enumerate(matrixtwo, 1):\n",
    "    count_average = sum(row) / len(row)\n",
    "    average2.append(count_average)\n",
    "max_average = max(average2)\n",
    "indexx=average2.index(max_average)\n",
    "\n",
    "\n",
    "print(f\"Найкраща альтернатива з результатом {max_average} під номером {(indexx+1)}.\")"
   ]
  },
  {
   "cell_type": "markdown",
   "metadata": {},
   "source": [
    "Критерій Байєса-Лапласа"
   ]
  },
  {
   "cell_type": "code",
   "execution_count": 54,
   "metadata": {},
   "outputs": [
    {
     "name": "stdout",
     "output_type": "stream",
     "text": [
      "Найкраща альтернатива з результатом 1933.0 під номером 1.\n"
     ]
    }
   ],
   "source": [
    "bl2 = []\n",
    "p=[0.4,0.6]\n",
    "\n",
    "for row in matrixtwo:\n",
    "    count_bl = np.dot(p,row)\n",
    "    bl2.append(count_bl)\n",
    "max_bl = max(bl2)\n",
    "indexx=bl2.index(max_bl)\n",
    "\n",
    "\n",
    "print(f\"Найкраща альтернатива з результатом {max_bl} під номером {(indexx+1)}.\")"
   ]
  },
  {
   "cell_type": "markdown",
   "metadata": {},
   "source": [
    "Критерій Ходжа-Лемана"
   ]
  },
  {
   "cell_type": "code",
   "execution_count": 55,
   "metadata": {},
   "outputs": [
    {
     "name": "stdout",
     "output_type": "stream",
     "text": [
      "Найкраща альтернатива з результатом 1466.5 під номером 1.\n"
     ]
    }
   ],
   "source": [
    "hod_lem2 = []\n",
    "\n",
    "for i, row in enumerate(matrixtwo, 1):\n",
    "    count_hl = min(row)*(1-lyambda)+lyambda*np.dot(p,row)\n",
    "    hod_lem2.append(count_hl)\n",
    "max_hod_lem = max(hod_lem2)\n",
    "indexx=hod_lem2.index(max_hod_lem)\n",
    "\n",
    "\n",
    "print(f\"Найкраща альтернатива з результатом {max_hod_lem} під номером {(indexx+1)}.\")"
   ]
  }
 ],
 "metadata": {
  "kernelspec": {
   "display_name": "Python 3",
   "language": "python",
   "name": "python3"
  },
  "language_info": {
   "codemirror_mode": {
    "name": "ipython",
    "version": 3
   },
   "file_extension": ".py",
   "mimetype": "text/x-python",
   "name": "python",
   "nbconvert_exporter": "python",
   "pygments_lexer": "ipython3",
   "version": "3.11.5"
  }
 },
 "nbformat": 4,
 "nbformat_minor": 2
}
